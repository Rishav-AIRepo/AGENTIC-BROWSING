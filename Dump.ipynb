from langchain_community.llms import HuggingFaceHub
llm = HuggingFaceHub(
    repo_id="tiiuae/falcon-7b-instruct",
    model_kwargs={"temperature": 0.2, "max_length": 512}
)

from langchain_community.llms import HuggingFacePipeline
from transformers import pipeline

pipe = pipeline(
    "text-generation",
    model="tiiuae/falcon-7b-instruct",
    max_new_tokens=256,
    device_map="auto"
)

llm = HuggingFacePipeline(pipeline=pipe)

