from langchain_community.llms import HuggingFaceHub
llm = HuggingFaceHub(
    repo_id="tiiuae/falcon-7b-instruct",
    model_kwargs={"temperature": 0.2, "max_length": 512}
)
