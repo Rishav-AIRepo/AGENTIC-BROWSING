{
 "cells": [
  {
   "cell_type": "code",
   "execution_count": 1,
   "id": "4e5b9853",
   "metadata": {},
   "outputs": [],
   "source": [
    "# !pip uninstall tensorflow tensorflow-gpu keras tf-keras -y\n",
    "# !pip install torch --upgrade\n",
    "# !pip uninstall torch torchvision torchaudio -y\n",
    "# !pip install torch==2.2.2 torchvision==0.17.2 torchaudio==2.2.2 --index-url https://download.pytorch.org/whl/cpu\n"
   ]
  },
  {
   "cell_type": "code",
   "execution_count": 1,
   "id": "176523c5",
   "metadata": {},
   "outputs": [],
   "source": [
    "import os\n",
    "os.environ[\"USE_TF\"] = \"0\""
   ]
  },
  {
   "cell_type": "code",
   "execution_count": null,
   "id": "5d16ab42",
   "metadata": {},
   "outputs": [],
   "source": [
    "import os\n",
    "from urllib.request import urlretrieve\n",
    "import numpy as np\n",
    "from langchain_community.embeddings import HuggingFaceBgeEmbeddings\n",
    "from langchain_community.llms import HuggingFacePipeline\n",
    "from langchain_community.document_loaders import PyPDFLoader\n",
    "from langchain_community.document_loaders import PyPDFDirectoryLoader\n",
    "\n",
    "from langchain.text_splitter import RecursiveCharacterTextSplitter\n",
    "from langchain_community.vectorstores import FAISS\n",
    "from langchain.chains import RetrievalQA\n",
    "from langchain.prompts import PromptTemplate"
   ]
  },
  {
   "cell_type": "code",
   "execution_count": 4,
   "id": "02231d1d",
   "metadata": {},
   "outputs": [],
   "source": [
    "\n",
    "\n",
    "os.makedirs(\"us_census\", exist_ok=True)\n",
    "files = [\n",
    "    \"https://www.census.gov/content/dam/Census/library/publications/2022/demo/p70-178.pdf\",\n",
    "    \"https://www.census.gov/content/dam/Census/library/publications/2023/acs/acsbr-017.pdf\",\n",
    "    \"https://www.census.gov/content/dam/Census/library/publications/2023/acs/acsbr-016.pdf\",\n",
    "    \"https://www.census.gov/content/dam/Census/library/publications/2023/acs/acsbr-015.pdf\",\n",
    "]\n",
    "for url in files:\n",
    "    file_path = os.path.join(\"us_census\", url.rpartition(\"/\")[2])\n",
    "    urlretrieve(url, file_path)"
   ]
  },
  {
   "cell_type": "code",
   "execution_count": 3,
   "id": "14b5541b",
   "metadata": {},
   "outputs": [],
   "source": [
    "\n",
    "# Load pdf files in the local directory\n",
    "loader = PyPDFDirectoryLoader(\"./us_census/\")\n",
    "\n",
    "docs_before_split = loader.load()\n",
    "text_splitter = RecursiveCharacterTextSplitter(\n",
    "    chunk_size = 700,\n",
    "    chunk_overlap  = 50,\n",
    ")\n",
    "docs_after_split = text_splitter.split_documents(docs_before_split)"
   ]
  },
  {
   "cell_type": "code",
   "execution_count": 8,
   "id": "c90f5790",
   "metadata": {},
   "outputs": [
    {
     "data": {
      "text/plain": [
       "Document(metadata={'source': 'us_census\\\\acsbr-015.pdf', 'page': 0}, page_content='Health Insurance Coverage Status and Type \\nby Geography: 2021 and 2022\\nAmerican Community Survey Briefs\\nACSBR-015Issued September 2023Douglas Conway and Breauna Branch\\nINTRODUCTION\\nDemographic shifts as well as economic and govern-\\nment policy changes can affect people’s access to health coverage. For example, between 2021 and 2022, the labor market continued to improve, which may have affected private coverage in the United States \\nduring that time.\\n1 Public policy changes included \\nthe renewal of the Public Health Emergency, which \\nallowed Medicaid enrollees to remain covered under the Continuous Enrollment Provision.\\n2 The American')"
      ]
     },
     "execution_count": 8,
     "metadata": {},
     "output_type": "execute_result"
    }
   ],
   "source": [
    "\n",
    "docs_after_split[0]"
   ]
  },
  {
   "cell_type": "code",
   "execution_count": 6,
   "id": "81694f04",
   "metadata": {},
   "outputs": [
    {
     "name": "stdout",
     "output_type": "stream",
     "text": [
      "Before split, there were 63 documents loaded, with average characters equal to 3830.\n",
      "After split, there were 400 documents (chunks), with average characters equal to 618 (average chunk length).\n"
     ]
    }
   ],
   "source": [
    "avg_doc_length = lambda docs: sum([len(doc.page_content) for doc in docs])//len(docs)\n",
    "avg_char_before_split = avg_doc_length(docs_before_split)\n",
    "avg_char_after_split = avg_doc_length(docs_after_split)\n",
    "\n",
    "print(f'Before split, there were {len(docs_before_split)} documents loaded, with average characters equal to {avg_char_before_split}.')\n",
    "print(f'After split, there were {len(docs_after_split)} documents (chunks), with average characters equal to {avg_char_after_split} (average chunk length).')"
   ]
  },
  {
   "cell_type": "code",
   "execution_count": 7,
   "id": "c8fcab7b",
   "metadata": {},
   "outputs": [
    {
     "name": "stderr",
     "output_type": "stream",
     "text": [
      "c:\\Users\\Sagem\\anaconda3\\envs\\LLM_env\\lib\\site-packages\\sentence_transformers\\cross_encoder\\CrossEncoder.py:11: TqdmExperimentalWarning: Using `tqdm.autonotebook.tqdm` in notebook mode. Use `tqdm.tqdm` instead to force console mode (e.g. in jupyter console)\n",
      "  from tqdm.autonotebook import tqdm, trange\n"
     ]
    }
   ],
   "source": [
    "huggingface_embeddings = HuggingFaceBgeEmbeddings(\n",
    "    model_name=\"sentence-transformers/all-MiniLM-l6-v2\",  # alternatively use \"sentence-transformers/all-MiniLM-l6-v2\" for a light and faster experience.\n",
    "    model_kwargs={'device':'cpu'}, \n",
    "    encode_kwargs={'normalize_embeddings': True}\n",
    ")"
   ]
  },
  {
   "cell_type": "code",
   "execution_count": 9,
   "id": "05f0dc8b",
   "metadata": {},
   "outputs": [
    {
     "name": "stdout",
     "output_type": "stream",
     "text": [
      "Sample embedding of a document chunk:  [ 3.62204537e-02  2.08621677e-02  6.65481165e-02  6.49365457e-03\n",
      "  6.40591085e-02  1.03430480e-01 -2.49341540e-02 -1.88159272e-02\n",
      " -8.36599097e-02  4.00242731e-02 -2.08016913e-02  1.11279204e-01\n",
      " -6.59805676e-03 -7.69476071e-02  2.79085655e-02 -5.11180609e-03\n",
      " -1.75802298e-02 -2.69326493e-02 -2.69206204e-02  6.55195266e-02\n",
      "  1.30409105e-02  4.62137796e-02 -1.29380506e-02  4.29106876e-02\n",
      " -8.32871068e-03  8.16423632e-03  6.18163608e-02 -2.42102332e-02\n",
      "  5.30794170e-03  5.58978058e-02  4.98897173e-02  3.47684845e-02\n",
      " -7.17514846e-03  1.98417250e-02  2.15069186e-02 -8.55922177e-02\n",
      " -4.41659279e-02  2.56719831e-02 -5.36422618e-02  2.86921728e-02\n",
      " -3.75566781e-02 -8.61203521e-02 -7.37674832e-02  9.83738378e-02\n",
      "  2.79736686e-02  1.51086235e-02 -6.12781942e-02  7.05660805e-02\n",
      " -5.04604913e-03  5.60576953e-02  2.26505883e-02 -2.16067303e-02\n",
      "  3.39269862e-02 -3.91952991e-02  4.61026803e-02 -3.05536259e-02\n",
      " -8.71737674e-03 -1.78834759e-02 -1.64443906e-02  4.11647707e-02\n",
      "  1.02097737e-02 -3.33576836e-02  1.73529480e-02  4.09878530e-02\n",
      " -5.37052229e-02  2.80056167e-02  5.43996925e-03 -1.10622132e-02\n",
      "  1.43619794e-02 -6.74622878e-02 -3.82045209e-02  1.31197609e-02\n",
      " -3.17143090e-02 -5.30385710e-02  9.00995657e-02 -2.61987392e-02\n",
      "  2.40429267e-02  7.42768943e-02  9.54650268e-02 -6.84136003e-02\n",
      "  2.52894964e-02 -7.59341419e-02  4.48344164e-02  2.42152326e-02\n",
      " -3.84864993e-02  6.27676770e-03 -2.84105148e-02 -4.88132574e-02\n",
      "  4.05891575e-02 -1.19404987e-01  7.24508911e-02  1.75755695e-02\n",
      "  2.61664540e-02  2.44765095e-02 -2.38367636e-02 -4.07171473e-02\n",
      " -6.09626174e-02 -3.62791941e-02  2.50613857e-02  1.57232750e-02\n",
      " -2.63323616e-02 -6.83948100e-02  1.56761818e-02  3.29430662e-02\n",
      " -6.79702163e-02 -8.30951035e-02  2.01202114e-03 -1.10320318e-02\n",
      "  3.93035298e-04  5.29648401e-02  5.22367619e-02 -4.15584296e-02\n",
      "  9.39538702e-03  5.45223011e-03 -1.87566187e-02 -5.89211136e-02\n",
      "  1.54981222e-02 -1.53781828e-02  4.27494310e-02  8.70100688e-03\n",
      "  1.36811938e-03 -2.67928448e-02 -8.40870887e-02 -6.75298870e-02\n",
      " -5.48404921e-03  1.24274082e-02 -1.37877874e-02  3.51750264e-33\n",
      "  6.09670319e-02 -7.07007721e-02  3.72065306e-02  4.95680831e-02\n",
      " -8.03607050e-03 -1.80213582e-02 -6.66902261e-03 -1.01700671e-01\n",
      "  8.41047391e-02 -9.85647887e-02 -2.87119169e-02  4.78672981e-02\n",
      "  1.29369386e-02  7.85315409e-02  1.38764223e-02 -4.27744687e-02\n",
      " -5.52721396e-02  1.04604788e-01 -7.04883486e-02  1.31128743e-01\n",
      " -4.47562858e-02  6.50057243e-03  7.44546670e-03 -1.04395375e-02\n",
      " -1.65027957e-02  3.59689295e-02  2.40562223e-02 -5.09847403e-02\n",
      "  3.97983007e-04  1.68019030e-02  2.07582791e-03  1.78636517e-02\n",
      " -2.39373948e-02 -5.11020645e-02 -1.59730995e-03  2.56298389e-02\n",
      " -1.72901880e-02  1.44413151e-02 -8.17719325e-02 -6.20545112e-02\n",
      " -4.85661440e-02  1.29950009e-02  5.76286390e-02  6.39887974e-02\n",
      "  7.73621276e-02 -4.34316844e-02  1.79560445e-02  2.89565455e-02\n",
      " -4.09842003e-03 -1.12505630e-02 -6.95177540e-02  8.27540606e-02\n",
      " -1.03433885e-01 -5.42967394e-02  6.03363523e-03 -3.49593163e-02\n",
      " -5.09776920e-02 -2.84788618e-03  6.31691469e-03 -2.56195236e-02\n",
      "  6.52182773e-02  1.22200241e-02  5.96635193e-02 -9.67140794e-02\n",
      "  5.06221130e-02  6.82660639e-02 -4.64875475e-02 -2.81021111e-02\n",
      "  1.34898862e-02  7.26490095e-02  3.62890884e-02  4.29860614e-02\n",
      " -5.61831668e-02  4.88702320e-02 -3.03097274e-02  9.29510780e-03\n",
      " -4.43783775e-02 -1.11176642e-02  5.89788295e-02  2.22307630e-02\n",
      " -4.02115425e-03 -1.09844785e-02  2.23270319e-02  1.78354718e-02\n",
      "  3.22434045e-02  3.02715437e-03  4.64395843e-02  5.37895299e-02\n",
      "  2.73055974e-02 -1.19482733e-01 -4.00749706e-02  7.20430305e-03\n",
      "  3.96210551e-02  6.12756982e-02  1.04038395e-01 -6.41994403e-33\n",
      " -4.83011417e-02  3.48319486e-02 -6.52210694e-03 -4.30508852e-02\n",
      " -5.31479623e-03 -5.59230261e-02  2.71539781e-02  3.39887515e-02\n",
      "  9.28481072e-02 -1.84277352e-02 -1.06173556e-03 -6.50140410e-03\n",
      "  1.72906760e-02  4.80879992e-02 -1.04326054e-01 -9.09438543e-03\n",
      " -1.95843130e-02 -1.03048056e-01 -6.79973587e-02  6.64086789e-02\n",
      " -4.56711799e-02 -2.82152630e-02 -2.55928766e-02  5.30970879e-02\n",
      "  2.76500378e-02  2.11446062e-02 -4.14473191e-02  2.50931792e-02\n",
      "  7.59490952e-02 -1.38598993e-01 -7.24286884e-02  2.25643218e-02\n",
      " -3.62468138e-02  7.19475895e-02 -3.99556048e-02 -3.55545208e-02\n",
      "  2.66003590e-02 -2.93709766e-02 -1.26012601e-02 -6.89749941e-02\n",
      "  1.18077822e-01 -8.76870751e-02  4.61898521e-02  4.96885255e-02\n",
      "  3.51355001e-02  5.85299470e-02  2.42347717e-02  3.45735922e-02\n",
      " -8.17814171e-02  3.74132441e-03 -8.32635351e-03  1.02257747e-02\n",
      "  1.92250665e-02  9.28164124e-02 -1.20547414e-02 -3.57851349e-02\n",
      "  1.63707684e-03 -6.99996054e-02 -1.14636458e-01 -3.21826199e-03\n",
      " -1.20947966e-02  2.32153963e-02 -2.05099937e-02  2.43034754e-02\n",
      " -1.24503653e-02 -9.97576714e-02  2.51603592e-02 -9.34205651e-02\n",
      "  3.27850431e-02 -4.60134111e-02 -4.98905294e-02 -7.08955005e-02\n",
      " -1.08047388e-01 -1.14290051e-01  2.86016893e-02 -2.72794883e-03\n",
      "  1.22067742e-02  1.37725323e-02 -5.34348227e-02  7.10951462e-02\n",
      " -3.71198007e-03 -3.20452489e-02 -1.02493122e-01  1.79315172e-02\n",
      "  1.42837018e-02  5.44794369e-03 -3.14316526e-02 -8.45776871e-02\n",
      " -3.13674994e-02  8.82297829e-02 -1.14132367e-01  5.25960885e-02\n",
      " -1.26471967e-01 -2.81586442e-02 -1.07997566e-01 -4.81871218e-08\n",
      "  4.08673733e-02  6.87888637e-02 -9.04945936e-03 -2.80236937e-02\n",
      "  8.92761946e-02 -8.56921524e-02 -6.07232675e-02  1.98588949e-02\n",
      "  2.26559173e-02  4.55474630e-02 -1.09401001e-02  1.53727114e-01\n",
      "  7.97231719e-02 -6.58240169e-02  1.79402325e-02  7.23188818e-02\n",
      " -2.09381413e-02  4.36613001e-02 -5.29320212e-03  3.76893915e-02\n",
      " -4.16379869e-02  1.07730487e-02 -3.48365912e-03  1.51703833e-02\n",
      " -4.86620665e-02  1.12483248e-01 -4.93541285e-02 -1.82134733e-02\n",
      "  1.69135761e-02 -9.39248409e-03  2.27469336e-02 -7.95349386e-03\n",
      "  2.14832146e-02 -1.27397086e-02 -3.55417505e-02 -3.26865986e-02\n",
      "  9.83247068e-03  2.30828151e-02  6.60946965e-02 -5.04614003e-02\n",
      "  8.61782506e-02  1.00384792e-02 -1.06772380e-02  5.38499877e-02\n",
      "  2.15463452e-02 -1.30482107e-01 -1.14703774e-02 -1.27490098e-03\n",
      " -2.67797429e-02 -5.67817502e-02 -6.42776638e-02 -3.33167464e-02\n",
      "  6.52089119e-02 -3.16595808e-02  1.08302822e-02  9.22764093e-03\n",
      " -1.98774934e-02 -5.12246676e-02 -4.26962564e-04  5.84498085e-02\n",
      "  4.69059264e-03 -7.95455799e-02 -2.74637304e-02  8.54817107e-02]\n",
      "Size of the embedding:  (384,)\n"
     ]
    }
   ],
   "source": [
    "\n",
    "sample_embedding = np.array(huggingface_embeddings.embed_query(docs_after_split[0].page_content))\n",
    "print(\"Sample embedding of a document chunk: \", sample_embedding)\n",
    "print(\"Size of the embedding: \", sample_embedding.shape)"
   ]
  },
  {
   "cell_type": "code",
   "execution_count": 10,
   "id": "ad032c19",
   "metadata": {},
   "outputs": [],
   "source": [
    "vectorstore = FAISS.from_documents(docs_after_split, huggingface_embeddings)"
   ]
  },
  {
   "cell_type": "code",
   "execution_count": 11,
   "id": "d2c044a7",
   "metadata": {},
   "outputs": [
    {
     "name": "stdout",
     "output_type": "stream",
     "text": [
      "There are 4 documents retrieved which are relevant to the query. Display the first one:\n",
      "\n",
      "hold income in 2022 was $24,112 \n",
      "(Table 1 and Figure 2). Median \n",
      "household income was lower than \n",
      "the U.S. median in 30 states and \n",
      "Puerto Rico. It was higher than the \n",
      "U.S. median in 17 states and the \n",
      "District of Columbia. The medians \n",
      "for Arizona, Oregon, and Vermont were not statistically different from \n",
      "the U.S. median.\n",
      "From 2021 to 2022, five states—\n",
      "Alabama, Alaska, Delaware, Florida, \n",
      "and Utah—showed a statistically \n",
      "significant increase in real median \n",
      "household income; 17 states \n",
      "showed a decrease. Real median \n",
      "household income in 2022 was not \n",
      "statistically different from that in \n",
      "2021 for 28 states, the District of \n",
      "Columbia, and Puerto Rico  \n",
      "(Table 1).\n"
     ]
    }
   ],
   "source": [
    "\n",
    "query = \"\"\"What were the trends in median household income across different states in the United States between 2021 and 2022.\"\"\"  # Sample question, change to other questions you are interested in.\n",
    "relevant_documents = vectorstore.similarity_search(query)\n",
    "print(f'There are {len(relevant_documents)} documents retrieved which are relevant to the query. Display the first one:\\n')\n",
    "print(relevant_documents[0].page_content)"
   ]
  },
  {
   "cell_type": "code",
   "execution_count": 12,
   "id": "fdb10d59",
   "metadata": {},
   "outputs": [],
   "source": [
    "\n",
    "# Use similarity searching algorithm and return 3 most relevant documents.\n",
    "retriever = vectorstore.as_retriever(search_type=\"similarity\", search_kwargs={\"k\": 3})"
   ]
  },
  {
   "cell_type": "markdown",
   "id": "e28f9217",
   "metadata": {},
   "source": [
    "#### load full percision Model from HF using Lang chain"
   ]
  },
  {
   "cell_type": "code",
   "execution_count": null,
   "id": "bdfbab7d",
   "metadata": {},
   "outputs": [],
   "source": [
    "# from langchain_community.llms.huggingface_pipeline import HuggingFacePipeline\n",
    "# from huggingface_hub import login\n",
    "\n",
    "# login(token=\"\")\n",
    "\n",
    "# hf = HuggingFacePipeline.from_model_id(\n",
    "#     model_id=\"mistralai/Mistral-7B-v0.1\",\n",
    "#     task=\"text-generation\",\n",
    "#     pipeline_kwargs={\"temperature\": 0, \"max_new_tokens\": 300}\n",
    "# )\n",
    "\n",
    "# llm = hf"
   ]
  },
  {
   "cell_type": "markdown",
   "id": "3a11a8d1",
   "metadata": {},
   "source": [
    "#### Quantization Applied - Need GPU"
   ]
  },
  {
   "cell_type": "code",
   "execution_count": null,
   "id": "ce3ed601",
   "metadata": {},
   "outputs": [],
   "source": [
    "from langchain_community.llms.huggingface_pipeline import HuggingFacePipeline\n",
    "from huggingface_hub import login\n",
    "from transformers import AutoModelForCausalLM, AutoTokenizer, pipeline, BitsAndBytesConfig\n",
    "\n",
    "# Login to Hugging Face\n",
    "login(token=\"\")\n",
    "\n",
    "model_id = \"mistralai/Mistral-7B-Instruct-v0.2\"  # Use instruct version to avoid gating issues\n",
    "\n",
    "# Configure 4-bit quantization\n",
    "bnb_config = BitsAndBytesConfig(\n",
    "    load_in_4bit=True,\n",
    "    bnb_4bit_use_double_quant=True,\n",
    "    bnb_4bit_quant_type=\"nf4\",   # Normalized float4\n",
    "    bnb_4bit_compute_dtype=\"float16\"  # Compute in float16 for performance\n",
    ")\n",
    "\n",
    "# Load model & tokenizer in 4-bit\n",
    "model = AutoModelForCausalLM.from_pretrained(\n",
    "    model_id,\n",
    "    quantization_config=bnb_config,\n",
    "    device_map=\"auto\"\n",
    ")\n",
    "\n",
    "tokenizer = AutoTokenizer.from_pretrained(model_id)\n",
    "\n",
    "# Create HuggingFace pipeline\n",
    "pipe = pipeline(\n",
    "    \"text-generation\",\n",
    "    model=model,\n",
    "    tokenizer=tokenizer,\n",
    "    temperature=0,\n",
    "    max_new_tokens=300\n",
    ")\n",
    "\n",
    "# Wrap in LangChain LLM\n",
    "hf = HuggingFacePipeline(pipeline=pipe)\n",
    "llm = hf"
   ]
  },
  {
   "cell_type": "markdown",
   "id": "99cbccac",
   "metadata": {},
   "source": [
    "#### Loading Quantized Model directly "
   ]
  },
  {
   "cell_type": "code",
   "execution_count": 1,
   "id": "301a1353",
   "metadata": {},
   "outputs": [],
   "source": [
    "# from langchain_community.llms import CTransformers\n",
    "\n",
    "# # Load 4-bit quantized Mistral (GGUF format) from HuggingFace\n",
    "# llm = CTransformers(\n",
    "#     model=\"TheBloke/Mistral-7B-Instruct-v0.2-GGUF\",  # 4-bit GGUF model repo\n",
    "#     model_file=\"mistral-7b-instruct-v0.2.Q4_K_M.gguf\", # 4-bit file\n",
    "#     config={\n",
    "#         \"max_new_tokens\": 300,\n",
    "#         \"temperature\": 0.0,\n",
    "#         \"context_length\": 2048,\n",
    "#         \"threads\": 8  # Adjust based on your CPU cores\n",
    "#     }\n",
    "# )\n",
    "\n",
    "# # Test\n",
    "# print(llm(\"What is the capital of France?\"))"
   ]
  },
  {
   "cell_type": "code",
   "execution_count": 14,
   "id": "2a953924",
   "metadata": {},
   "outputs": [],
   "source": [
    "# from langchain_community.llms import CTransformers\n",
    "\n",
    "# # Load directly from local path\n",
    "# llm = CTransformers(\n",
    "#     model=\"./models/mistral-7b-instruct-v0.2.Q4_K_M.gguf\",  # Path to local file\n",
    "#     config={\n",
    "#         \"max_new_tokens\": 300,\n",
    "#         \"temperature\": 0.0,\n",
    "#         \"context_length\": 2048,\n",
    "#         \"threads\": 8\n",
    "#     }\n",
    "# )\n",
    "\n",
    "# # Test inference\n",
    "# print(llm(\"Explain quantum computing in simple terms.\"))"
   ]
  },
  {
   "cell_type": "markdown",
   "id": "8c33d370",
   "metadata": {},
   "source": [
    "#### Load Quantized Model\n"
   ]
  },
  {
   "cell_type": "code",
   "execution_count": null,
   "id": "47c222eb",
   "metadata": {},
   "outputs": [
    {
     "name": "stderr",
     "output_type": "stream",
     "text": [
      "C:\\Users\\Sagem\\AppData\\Local\\Temp\\ipykernel_5516\\2496277169.py:32: LangChainDeprecationWarning: The method `BaseLLM.__call__` was deprecated in langchain-core 0.1.7 and will be removed in 1.0. Use invoke instead.\n",
      "  print(llm(\"What is the capital of France?\"))\n"
     ]
    },
    {
     "name": "stdout",
     "output_type": "stream",
     "text": [
      "\n",
      "\n",
      "The capital city of France is Paris. It is one of the most famous cities in the world and is known for its art, fashion, gastronomy, culture, and landmarks such as the Eiffel Tower, Louvre Museum, Notre-Dame Cathedral, and Montmartre. Paris has been a major political and cultural center of Europe since the 13th century and continues to be an important city today. It is also home to many international organizations including UNESCO and the OECD.\n"
     ]
    }
   ],
   "source": [
    "from huggingface_hub import snapshot_download\n",
    "from langchain_community.llms import CTransformers\n",
    "import os\n",
    "\n",
    "# Local models folder\n",
    "local_dir = \"./models/mistral-7b-instruct-v0.2\"\n",
    "\n",
    "# Download the model into local_dir (only if not already downloaded)\n",
    "if not os.path.exists(local_dir):\n",
    "    snapshot_download(\n",
    "        repo_id=\"TheBloke/Mistral-7B-Instruct-v0.2-GGUF\",\n",
    "        local_dir=local_dir,\n",
    "        allow_patterns=[\"*.gguf\"],  # Only download GGUF files\n",
    "        resume_download=True\n",
    "    )\n",
    "\n",
    "# Path to the 4-bit GGUF model file\n",
    "model_path = os.path.join(local_dir, \"mistral-7b-instruct-v0.2.Q4_K_M.gguf\")\n",
    "\n",
    "# Load with CTransformers from local path\n",
    "llm = CTransformers(\n",
    "    model=model_path,\n",
    "    config={\n",
    "        \"max_new_tokens\": 300,\n",
    "        \"temperature\": 0.0,\n",
    "        \"context_length\": 2048,\n",
    "        \"threads\": 8\n",
    "    }\n",
    ")\n",
    "\n",
    "# Test\n",
    "print(llm(\"What is the capital of France?\"))\n"
   ]
  },
  {
   "cell_type": "code",
   "execution_count": 16,
   "id": "723cc87a",
   "metadata": {},
   "outputs": [
    {
     "data": {
      "text/plain": [
       "\" I couldn't find a definitive answer to this question with a quick search, but I did find some data from the U.S. Census Bureau that may be helpful.\\n\\nAccording to the Census Bureau's annual estimate of median household income for states and metropolitan areas, median household income increased in 36 states between 2021 and 2022. The largest percentage increases were in Hawaii (5.4%), New Mexico (4.9%), and Utah (4.8%).\\n\\nOn the other hand, median household income decreased in 14 states: Connecticut (-3.6%), Delaware (-2.7%), Illinois (-1.8%), Maryland (-1.5%), Massachusetts (-1.3%), Michigan (-0.9%), New Jersey (-0.8%), New York (-0.7%), Pennsylvania (-0.4%), Rhode Island (-0.4%), Vermont (-0.2%), Virginia (-0.1%), West Virginia (-0.1%), and Wyoming (-0.1%).\\n\\nIt's important to note that these estimates are subject to revision as more data becomes available, so they should be considered preliminary. Additionally, the Census Bureau does not provide a comprehensive list of all states and their income changes between 2021 and 2022, so some may not be\""
      ]
     },
     "execution_count": 16,
     "metadata": {},
     "output_type": "execute_result"
    }
   ],
   "source": [
    "llm.invoke(query)"
   ]
  },
  {
   "cell_type": "code",
   "execution_count": 16,
   "id": "9cc9d208",
   "metadata": {},
   "outputs": [],
   "source": [
    "prompt_template = \"\"\"Use the following pieces of context to answer the question at the end. Please follow the following rules:\n",
    "1. If you don't know the answer, don't try to make up an answer. Just say \"I can't find the final answer but you may want to check the following links\".\n",
    "2. If you find the answer, write the answer in a concise way with five sentences maximum.\n",
    "\n",
    "{context}\n",
    "\n",
    "Question: {question}\n",
    "\n",
    "Helpful Answer:\n",
    "\"\"\"\n",
    "\n",
    "PROMPT = PromptTemplate(\n",
    "    template=prompt_template, input_variables=[\"context\", \"question\"]\n",
    ")"
   ]
  },
  {
   "cell_type": "code",
   "execution_count": 17,
   "id": "14bcb3a9",
   "metadata": {},
   "outputs": [
    {
     "name": "stdout",
     "output_type": "stream",
     "text": [
      "Five states - Alabama, Alaska, Delaware, Florida, and Utah - experienced a statistically significant increase in real median household income from 2021 to 2022. Conversely, 17 states showed a decrease. The median household income in 28 states, the District of Columbia, and Puerto Rico remained unchanged from the previous year. These findings are based on data from the U.S. Census Bureau's \"Current Population Survey,\" available at www.census.gov/programs-surveys/acs. The overall U.S. median household income declined 0.8 percent to $74,755 in 2022 after adjusting for inflation. Additionally, the Gini Index, a measure of income inequality, increased by 4.7 percent from 0.464 to 0.486 during this period.\n"
     ]
    }
   ],
   "source": [
    "retrievalQA = RetrievalQA.from_chain_type(\n",
    "    llm=llm,\n",
    "    chain_type=\"stuff\",\n",
    "    retriever=retriever,\n",
    "    return_source_documents=True,\n",
    "    chain_type_kwargs={\"prompt\": PROMPT}\n",
    ")\n",
    "# Call the QA chain with our query.\n",
    "result = retrievalQA.invoke({\"query\": query})\n",
    "print(result['result'])"
   ]
  },
  {
   "cell_type": "code",
   "execution_count": 18,
   "id": "87b87ae3",
   "metadata": {},
   "outputs": [
    {
     "name": "stdout",
     "output_type": "stream",
     "text": [
      "There are 3 documents retrieved which are relevant to the query.\n",
      "****************************************************************************************************\n",
      "Relevant Document #1:\n",
      "Source file: us_census\\acsbr-017.pdf, Page: 3\n",
      "Content: hold income in 2022 was $24,112 \n",
      "(Table 1 and Figure 2). Median \n",
      "household income was lower than \n",
      "the U.S. median in 30 states and \n",
      "Puerto Rico. It was higher than the \n",
      "U.S. median in 17 states and the \n",
      "District of Columbia. The medians \n",
      "for Arizona, Oregon, and Vermont were not statistically different from \n",
      "the U.S. median.\n",
      "From 2021 to 2022, five states—\n",
      "Alabama, Alaska, Delaware, Florida, \n",
      "and Utah—showed a statistically \n",
      "significant increase in real median \n",
      "household income; 17 states \n",
      "showed a decrease. Real median \n",
      "household income in 2022 was not \n",
      "statistically different from that in \n",
      "2021 for 28 states, the District of \n",
      "Columbia, and Puerto Rico  \n",
      "(Table 1).\n",
      "----------------------------------------------------------------------------------------------------\n",
      "Relevant Document #2:\n",
      "Source file: us_census\\acsbr-017.pdf, Page: 1\n",
      "Content: Community Survey,” Applied Demography \n",
      "in the 21st Century, Steven H. Murdock \n",
      "and David A. Swanson (eds.), Springer, \n",
      "Netherlands, 2008.topics, visit <www.census.gov/\n",
      "programs-surveys/acs>.\n",
      "HIGHLIGHTS\n",
      "• Median household income in the United States was $74,755 in 2022, a decline of 0.8 percent from last year, after adjusting for inflation.\n",
      "6\n",
      "• Real median household income increased in five states and decreased in 17 states from 2021 to 2022. Twenty-eight states, the District of Columbia, and \n",
      "Puerto Rico showed no statisti-\n",
      "cally significant differences. \n",
      "⁶ All income estimates in this report \n",
      "are inflation-adjusted to 2022 dollars. \n",
      "Inflation adjustments are computed using\n",
      "----------------------------------------------------------------------------------------------------\n",
      "Relevant Document #3:\n",
      "Source file: us_census\\acsbr-017.pdf, Page: 7\n",
      "Content: the Gini Index is available) to 2022, \n",
      "the index increased 4.7 percent, \n",
      "from 0.464 to 0.486.\n",
      "SUMMARY\n",
      "The U.S. median household income \n",
      "declined 0.8 percent to $74,755 \n",
      "from 2021 to 2022. Between 2021 \n",
      "and 2022, five states—Alabama, \n",
      "Alaska, Delaware, Florida, and \n",
      "Utah—showed a statistically signifi -\n",
      "cant increase in real median house -\n",
      "hold income. Seventeen states \n",
      "showed a decrease. Real median \n",
      "household income in 2022 was not statistically different from that in \n",
      "2021 for 28 states, the District of \n",
      "Columbia, and Puerto Rico. This \n",
      "brief also provided information \n",
      "on changes in median household \n",
      "income across metropolitan areas, \n",
      "race and Hispanic origin, and age\n",
      "----------------------------------------------------------------------------------------------------\n"
     ]
    }
   ],
   "source": [
    "relevant_docs = result['source_documents']\n",
    "print(f'There are {len(relevant_docs)} documents retrieved which are relevant to the query.')\n",
    "print(\"*\" * 100)\n",
    "for i, doc in enumerate(relevant_docs):\n",
    "    print(f\"Relevant Document #{i+1}:\\nSource file: {doc.metadata['source']}, Page: {doc.metadata['page']}\\nContent: {doc.page_content}\")\n",
    "    print(\"-\"*100)"
   ]
  },
  {
   "cell_type": "code",
   "execution_count": null,
   "id": "664c9723",
   "metadata": {},
   "outputs": [],
   "source": []
  },
  {
   "cell_type": "code",
   "execution_count": null,
   "id": "72d61599",
   "metadata": {},
   "outputs": [],
   "source": []
  },
  {
   "cell_type": "code",
   "execution_count": null,
   "id": "1d449eee",
   "metadata": {},
   "outputs": [],
   "source": []
  },
  {
   "cell_type": "code",
   "execution_count": null,
   "id": "05ea992e",
   "metadata": {},
   "outputs": [],
   "source": []
  }
 ],
 "metadata": {
  "kernelspec": {
   "display_name": "LLM_env",
   "language": "python",
   "name": "python3"
  },
  "language_info": {
   "codemirror_mode": {
    "name": "ipython",
    "version": 3
   },
   "file_extension": ".py",
   "mimetype": "text/x-python",
   "name": "python",
   "nbconvert_exporter": "python",
   "pygments_lexer": "ipython3",
   "version": "3.10.14"
  }
 },
 "nbformat": 4,
 "nbformat_minor": 5
}
